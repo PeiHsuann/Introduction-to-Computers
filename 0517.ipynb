{
  "nbformat": 4,
  "nbformat_minor": 0,
  "metadata": {
    "colab": {
      "provenance": [],
      "authorship_tag": "ABX9TyOGghmfHsJj1ruBIBtsFSnn",
      "include_colab_link": true
    },
    "kernelspec": {
      "name": "python3",
      "display_name": "Python 3"
    },
    "language_info": {
      "name": "python"
    }
  },
  "cells": [
    {
      "cell_type": "markdown",
      "metadata": {
        "id": "view-in-github",
        "colab_type": "text"
      },
      "source": [
        "<a href=\"https://colab.research.google.com/github/PeiHsuann/Introduction-to-Computers/blob/main/0517.ipynb\" target=\"_parent\"><img src=\"https://colab.research.google.com/assets/colab-badge.svg\" alt=\"Open In Colab\"/></a>"
      ]
    },
    {
      "cell_type": "code",
      "execution_count": 1,
      "metadata": {
        "colab": {
          "base_uri": "https://localhost:8080/"
        },
        "id": "-c-xy9WBxRcJ",
        "outputId": "adf7ab0f-06d8-4dc2-dbaf-ce54d2ade8f2"
      },
      "outputs": [
        {
          "output_type": "stream",
          "name": "stdout",
          "text": [
            "score: 90\n",
            "Grade is : A\n"
          ]
        }
      ],
      "source": [
        "score=int(input(\"score: \"))\n",
        "if score >=90:\n",
        "  print('Grade is : A')\n",
        "elif score >=80:\n",
        "  print('Grade is : B')\n",
        "elif score >=70:\n",
        "  print('Grade is : C')\n",
        "elif score >=60:\n",
        "  print('Grade is : D')\n",
        "else:\n",
        "  print('Grade is : F')"
      ]
    },
    {
      "cell_type": "code",
      "source": [
        "rain=str(input(\"今天會下雨嗎?\"))\n",
        "if(rain==\"Y\" or rain==\"y\"):\n",
        "  print(\"出門記得帶傘!\")\n",
        "elif(rain==\"N\" or rain==\"n\"):\n",
        "  print(\"今天不用帶傘!\")\n",
        "else:\n",
        "  print(\"請重新\")"
      ],
      "metadata": {
        "colab": {
          "base_uri": "https://localhost:8080/"
        },
        "id": "wXSMYKs7002Z",
        "outputId": "e3bffd30-9b59-4d2a-deb8-27b4cda24465"
      },
      "execution_count": 2,
      "outputs": [
        {
          "output_type": "stream",
          "name": "stdout",
          "text": [
            "今天會下雨嗎?N\n",
            "今天不用帶傘!\n"
          ]
        }
      ]
    },
    {
      "cell_type": "code",
      "source": [
        "T=int(input(\"T: \"))\n",
        "if T >=37.5:\n",
        "  print(\"體溫過高!\")\n",
        "elif (T>=37 and T<=37.4):\n",
        "  print(\"體溫略高!\")\n",
        "elif (T>=34 and T<=36.9):\n",
        "  print(\"體溫正常!\")\n",
        "else:\n",
        "  print(\"體溫異常，請重新測量!\")"
      ],
      "metadata": {
        "colab": {
          "base_uri": "https://localhost:8080/"
        },
        "id": "CRJRYOKz1hiB",
        "outputId": "d0728a3f-fa1f-4cd4-efe1-5239453e9bda"
      },
      "execution_count": 3,
      "outputs": [
        {
          "output_type": "stream",
          "name": "stdout",
          "text": [
            "T: 36\n",
            "體溫正常!\n"
          ]
        }
      ]
    },
    {
      "cell_type": "code",
      "source": [
        "score=int(input(\"請輸入成績:\"))\n",
        "if score >=90:\n",
        "  print('A')\n",
        "elif score >=80:\n",
        "  print('B')\n",
        "elif score >=70:\n",
        "  print('C')\n",
        "elif score >=60:\n",
        "  print('D')\n",
        "else:\n",
        "  print('E')"
      ],
      "metadata": {
        "colab": {
          "base_uri": "https://localhost:8080/"
        },
        "id": "Qv9WzTQq2m4y",
        "outputId": "9a9c774e-36ae-4e0c-84b9-cabdcbddc0bf"
      },
      "execution_count": 4,
      "outputs": [
        {
          "output_type": "stream",
          "name": "stdout",
          "text": [
            "請輸入成績:90\n",
            "A\n"
          ]
        }
      ]
    },
    {
      "cell_type": "code",
      "source": [
        "score=int(input(\"請輸入成績:\"))\n",
        "if score >=90:\n",
        "  print('A')\n",
        "elif score >=80:\n",
        "  print('B')\n",
        "elif score >=70:\n",
        "  print('C')\n",
        "elif score >=60:\n",
        "  print('D')\n",
        "else:\n",
        "  print('E')"
      ],
      "metadata": {
        "colab": {
          "base_uri": "https://localhost:8080/"
        },
        "id": "R8hEx-Y723LH",
        "outputId": "1fb9925f-b603-43cc-b7fa-36fa5b025e34"
      },
      "execution_count": 5,
      "outputs": [
        {
          "output_type": "stream",
          "name": "stdout",
          "text": [
            "請輸入成績:80\n",
            "B\n"
          ]
        }
      ]
    },
    {
      "cell_type": "code",
      "source": [
        "score=int(input(\"請輸入成績:\"))\n",
        "if score >=90:\n",
        "  print('A')\n",
        "elif score >=80:\n",
        "  print('B')\n",
        "elif score >=70:\n",
        "  print('C')\n",
        "elif score >=60:\n",
        "  print('D')\n",
        "else:\n",
        "  print('E')"
      ],
      "metadata": {
        "colab": {
          "base_uri": "https://localhost:8080/"
        },
        "id": "8I0a7uyW2-D7",
        "outputId": "3006e759-80da-49d9-db18-eeb8df15352e"
      },
      "execution_count": 6,
      "outputs": [
        {
          "output_type": "stream",
          "name": "stdout",
          "text": [
            "請輸入成績:50\n",
            "E\n"
          ]
        }
      ]
    },
    {
      "cell_type": "code",
      "source": [
        "month=int(input(\"請輸入月份:\"))\n",
        "if month>=3 and month<6:\n",
        "    print(\"夏季\")\n",
        "elif month>=6 and month<9:\n",
        "    print(\"夏季\")\n",
        "elif month >= 9 and month<12:\n",
        "    print(\"秋季\")\n",
        "elif month <13  or month<=2:\n",
        "    print(\"冬季\")\n",
        "else:\n",
        "    print(\"月份不在範圍內\")"
      ],
      "metadata": {
        "colab": {
          "base_uri": "https://localhost:8080/"
        },
        "id": "VMmRO_Cq3AWO",
        "outputId": "7c947bc8-ddb3-4915-8227-13413dbec50c"
      },
      "execution_count": 10,
      "outputs": [
        {
          "output_type": "stream",
          "name": "stdout",
          "text": [
            "請輸入月份:2\n",
            "冬季\n"
          ]
        }
      ]
    },
    {
      "cell_type": "code",
      "source": [
        "income=int(input(\"請輸入今年稅額:\"))\n",
        "if income>=2000000:\n",
        "  print(\"付稅金額\",income*0.3,\"元\")\n",
        "elif income>=1000000:\n",
        "  print(\"付稅金額\",income*0.21,\"元\")\n",
        "elif income>=600000:\n",
        "  print(\"付稅金額\",income*0.13,\"元\")\n",
        "elif income>=300000:\n",
        "  print(\"付稅金額\",income*0.06,\"元\")\n",
        "else:\n",
        "  print(\"付稅金額:0元\")"
      ],
      "metadata": {
        "colab": {
          "base_uri": "https://localhost:8080/"
        },
        "id": "6Lra34zR3Qng",
        "outputId": "39446c62-db3c-4af8-cf6a-b3ce4e6ae330"
      },
      "execution_count": 11,
      "outputs": [
        {
          "output_type": "stream",
          "name": "stdout",
          "text": [
            "請輸入今年稅額:2000000\n",
            "付稅金額 600000.0 元\n"
          ]
        }
      ]
    },
    {
      "cell_type": "code",
      "source": [],
      "metadata": {
        "id": "YBZwpMKD7CA9"
      },
      "execution_count": null,
      "outputs": []
    }
  ]
}