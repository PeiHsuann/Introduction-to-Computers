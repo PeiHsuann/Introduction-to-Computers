{
  "nbformat": 4,
  "nbformat_minor": 0,
  "metadata": {
    "colab": {
      "provenance": [],
      "authorship_tag": "ABX9TyNg5hWW6Aa24PYGOvC9XZ0w",
      "include_colab_link": true
    },
    "kernelspec": {
      "name": "python3",
      "display_name": "Python 3"
    },
    "language_info": {
      "name": "python"
    }
  },
  "cells": [
    {
      "cell_type": "markdown",
      "metadata": {
        "id": "view-in-github",
        "colab_type": "text"
      },
      "source": [
        "<a href=\"https://colab.research.google.com/github/PeiHsuann/Introduction-to-Computers/blob/main/0519.ipynb\" target=\"_parent\"><img src=\"https://colab.research.google.com/assets/colab-badge.svg\" alt=\"Open In Colab\"/></a>"
      ]
    },
    {
      "cell_type": "code",
      "execution_count": null,
      "metadata": {
        "colab": {
          "base_uri": "https://localhost:8080/"
        },
        "id": "wPNoiVqXBV2U",
        "outputId": "d746226d-acdb-4432-dcd6-5c484adc021e"
      },
      "outputs": [
        {
          "output_type": "stream",
          "name": "stdout",
          "text": [
            "Happy\n",
            "Happy\n",
            "Happy\n",
            "Happy\n",
            "Happy\n",
            "Happy\n",
            "Happy\n",
            "Happy\n",
            "Happy\n"
          ]
        }
      ],
      "source": [
        "count=0\n",
        "while count<9:\n",
        "  print(\"Happy\")\n",
        "  count+=1"
      ]
    },
    {
      "cell_type": "code",
      "source": [
        "for i in range(9):\n",
        "  print(\"Happy\")"
      ],
      "metadata": {
        "colab": {
          "base_uri": "https://localhost:8080/"
        },
        "id": "YICEVg4PBqZK",
        "outputId": "f7e508ae-b269-49b7-aa35-34592fe884f5"
      },
      "execution_count": null,
      "outputs": [
        {
          "output_type": "stream",
          "name": "stdout",
          "text": [
            "Happy\n",
            "Happy\n",
            "Happy\n",
            "Happy\n",
            "Happy\n",
            "Happy\n",
            "Happy\n",
            "Happy\n",
            "Happy\n"
          ]
        }
      ]
    },
    {
      "cell_type": "code",
      "source": [
        "secret_number=21\n",
        "print(\"猜猜看我心裡想的是哪個數字!\")\n",
        "while int(input(\"請輸入一個數字:\"))!=secret_number:\n",
        "  print(\"猜錯了，再試一次!\")\n",
        "\n",
        "print(\"恭喜你，猜對了!\")"
      ],
      "metadata": {
        "id": "gjutAsnZBygv",
        "colab": {
          "base_uri": "https://localhost:8080/"
        },
        "outputId": "3e9f96f7-809b-47ca-ac65-c7222368c644"
      },
      "execution_count": 3,
      "outputs": [
        {
          "output_type": "stream",
          "name": "stdout",
          "text": [
            "猜猜看我心裡想的是哪個數字!\n",
            "請輸入一個數字:6\n",
            "猜錯了，再試一次!\n",
            "請輸入一個數字:21\n",
            "恭喜你，猜對了!\n"
          ]
        }
      ]
    },
    {
      "cell_type": "code",
      "source": [
        "for j in range(5):\n",
        "  if j==3:break\n",
        "  print(j)\n",
        "print(\"Bye!\")"
      ],
      "metadata": {
        "colab": {
          "base_uri": "https://localhost:8080/"
        },
        "id": "8j77N31AEmV7",
        "outputId": "d2de1c0a-ffcd-4363-f89f-1e7b338feb1a"
      },
      "execution_count": 4,
      "outputs": [
        {
          "output_type": "stream",
          "name": "stdout",
          "text": [
            "0\n",
            "1\n",
            "2\n",
            "Bye!\n"
          ]
        }
      ]
    },
    {
      "cell_type": "code",
      "source": [
        "for j in range(5):\n",
        "  if j==3:continue\n",
        "  print(j)\n",
        "print(\"Bye!\") "
      ],
      "metadata": {
        "colab": {
          "base_uri": "https://localhost:8080/"
        },
        "id": "-IrjH26_FqUx",
        "outputId": "57d6c9fe-b98a-42f9-a086-ef6730e02726"
      },
      "execution_count": 5,
      "outputs": [
        {
          "output_type": "stream",
          "name": "stdout",
          "text": [
            "0\n",
            "1\n",
            "2\n",
            "4\n",
            "Bye!\n"
          ]
        }
      ]
    },
    {
      "cell_type": "code",
      "source": [],
      "metadata": {
        "id": "JMrxYTqJGE2a"
      },
      "execution_count": null,
      "outputs": []
    }
  ]
}