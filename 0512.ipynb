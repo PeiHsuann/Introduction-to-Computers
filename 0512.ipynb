{
  "nbformat": 4,
  "nbformat_minor": 0,
  "metadata": {
    "colab": {
      "provenance": [],
      "authorship_tag": "ABX9TyPvhxP9K2G3ujc8Np0fDf5U",
      "include_colab_link": true
    },
    "kernelspec": {
      "name": "python3",
      "display_name": "Python 3"
    },
    "language_info": {
      "name": "python"
    }
  },
  "cells": [
    {
      "cell_type": "markdown",
      "metadata": {
        "id": "view-in-github",
        "colab_type": "text"
      },
      "source": [
        "<a href=\"https://colab.research.google.com/github/PeiHsuann/Introduction-to-Computers/blob/main/0512.ipynb\" target=\"_parent\"><img src=\"https://colab.research.google.com/assets/colab-badge.svg\" alt=\"Open In Colab\"/></a>"
      ]
    },
    {
      "cell_type": "code",
      "execution_count": null,
      "metadata": {
        "colab": {
          "base_uri": "https://localhost:8080/"
        },
        "id": "sjAM74NC3IaH",
        "outputId": "cb2f82df-da20-4a42-9f6d-3be8c9cdf709"
      },
      "outputs": [
        {
          "output_type": "stream",
          "name": "stdout",
          "text": [
            "請輸入正整數:43\n",
            "43 奇數\n",
            "Bye!\n"
          ]
        }
      ],
      "source": [
        "n=int(input(\"請輸入正整數:\"))\n",
        "if n % 2 == 0:\n",
        "    print(n,\"偶數\")\n",
        "else:\n",
        "    print(n,\"奇數\")\n",
        "print(\"Bye!\")"
      ]
    },
    {
      "cell_type": "code",
      "source": [
        "month=int(input(\"請輸入月份:\"))\n",
        "if month < 4:\n",
        "    print(\"夏季\")\n",
        "elif month >= 4 and month<=6:\n",
        "    print(\"夏季\")\n",
        "elif month >= 7 and month<=9:\n",
        "    print(\"秋季\")\n",
        "elif month >=10  and month<=12:\n",
        "    print(\"冬季\")\n",
        "else:\n",
        "    print(\"無效月份\")"
      ],
      "metadata": {
        "id": "B_Qpl20x3SVq",
        "colab": {
          "base_uri": "https://localhost:8080/"
        },
        "outputId": "c1abc1e5-f3cd-4a28-dcd6-cccd6a8bac20"
      },
      "execution_count": 9,
      "outputs": [
        {
          "output_type": "stream",
          "name": "stdout",
          "text": [
            "請輸入月份:10\n",
            "冬季\n"
          ]
        }
      ]
    },
    {
      "cell_type": "code",
      "source": [
        "age = int(input(\"請輸入你的年齡:\"))\n",
        "if age<18:\n",
        "  print(\"未成年人\")\n",
        "elif age>=18 and age <=65:\n",
        "  print(\"成年人\")\n",
        "else:\n",
        "  print(\"老年人\")"
      ],
      "metadata": {
        "colab": {
          "base_uri": "https://localhost:8080/"
        },
        "id": "VBAfv-sE4jo-",
        "outputId": "49718de6-9058-4213-c330-dfbbaa2d5c09"
      },
      "execution_count": 10,
      "outputs": [
        {
          "output_type": "stream",
          "name": "stdout",
          "text": [
            "請輸入你的年齡:19\n",
            "成年人\n"
          ]
        }
      ]
    },
    {
      "cell_type": "code",
      "source": [],
      "metadata": {
        "id": "KTjeUo7CAqM4"
      },
      "execution_count": null,
      "outputs": []
    }
  ]
}