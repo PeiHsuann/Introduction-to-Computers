{
  "nbformat": 4,
  "nbformat_minor": 0,
  "metadata": {
    "colab": {
      "provenance": [],
      "authorship_tag": "ABX9TyPwSYpzW9K9K1HlvDO2UKPo",
      "include_colab_link": true
    },
    "kernelspec": {
      "name": "python3",
      "display_name": "Python 3"
    },
    "language_info": {
      "name": "python"
    }
  },
  "cells": [
    {
      "cell_type": "markdown",
      "metadata": {
        "id": "view-in-github",
        "colab_type": "text"
      },
      "source": [
        "<a href=\"https://colab.research.google.com/github/PeiHsuann/Introduction-to-Computers/blob/main/%E6%9C%9F%E4%B8%AD%E8%80%83%E9%A1%8C.ipynb\" target=\"_parent\"><img src=\"https://colab.research.google.com/assets/colab-badge.svg\" alt=\"Open In Colab\"/></a>"
      ]
    },
    {
      "cell_type": "code",
      "execution_count": null,
      "metadata": {
        "colab": {
          "base_uri": "https://localhost:8080/"
        },
        "id": "KoT5lQIr2ZLC",
        "outputId": "0ea1d2ce-207d-4ee9-d38a-48927bdf472a"
      },
      "outputs": [
        {
          "output_type": "stream",
          "name": "stdout",
          "text": [
            "peiyu\n"
          ]
        }
      ],
      "source": [
        "print(\"peiyu\")"
      ]
    },
    {
      "cell_type": "code",
      "source": [
        "total=0\n",
        "for i in range(1,101):\n",
        "  total+=i\n",
        "print(total)"
      ],
      "metadata": {
        "colab": {
          "base_uri": "https://localhost:8080/"
        },
        "id": "sYH2PIrG23qh",
        "outputId": "b4dba972-baf8-48b4-9e0a-96d3452560b1"
      },
      "execution_count": null,
      "outputs": [
        {
          "output_type": "stream",
          "name": "stdout",
          "text": [
            "5050\n"
          ]
        }
      ]
    },
    {
      "cell_type": "code",
      "source": [
        "身高=int(input(\"請輸入身高(cm):\"))\n",
        "體重=int(input(\"請輸入體重(kg):\"))\n",
        "BMI=體重/(身高/100)**2\n",
        "print(\"%.2f\" %BMI)"
      ],
      "metadata": {
        "id": "lf8xamrE3U_v",
        "outputId": "aa641736-aaba-4153-eb36-736cde92a0d3",
        "colab": {
          "base_uri": "https://localhost:8080/"
        }
      },
      "execution_count": 4,
      "outputs": [
        {
          "output_type": "stream",
          "name": "stdout",
          "text": [
            "請輸入身高(cm):180\n",
            "請輸入體重(kg):70\n",
            "21.60\n"
          ]
        }
      ]
    },
    {
      "cell_type": "code",
      "source": [],
      "metadata": {
        "id": "LgC6toeO6n2H"
      },
      "execution_count": 6,
      "outputs": []
    },
    {
      "cell_type": "code",
      "source": [],
      "metadata": {
        "id": "g6Vvi6yO2i9t"
      },
      "execution_count": 6,
      "outputs": []
    },
    {
      "cell_type": "code",
      "source": [],
      "metadata": {
        "id": "ZjO-EcEe33tG"
      },
      "execution_count": 6,
      "outputs": []
    },
    {
      "cell_type": "code",
      "source": [],
      "metadata": {
        "id": "skLlHvcJ4Azs"
      },
      "execution_count": null,
      "outputs": []
    }
  ]
}